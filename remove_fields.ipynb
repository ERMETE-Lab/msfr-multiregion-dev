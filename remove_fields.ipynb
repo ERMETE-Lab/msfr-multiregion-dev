{
 "cells": [
  {
   "cell_type": "code",
   "execution_count": 1,
   "metadata": {},
   "outputs": [
    {
     "name": "stderr",
     "output_type": "stream",
     "text": [
      "rm: cannot remove './/processors*': No such file or directory\n",
      "rm: cannot remove 'log.*': No such file or directory\n"
     ]
    },
    {
     "data": {
      "text/plain": [
       "256"
      ]
     },
     "execution_count": 1,
     "metadata": {},
     "output_type": "execute_result"
    }
   ],
   "source": [
    "from os import listdir\n",
    "from os.path import isfile, join\n",
    "import os\n",
    "\n",
    "snaps_fold = './'\n",
    "\n",
    "only_folders = [f for f in listdir(snaps_fold) if not isfile(join(snaps_fold, f))]\n",
    "sorted_folders = sorted(only_folders)\n",
    "\n",
    "import re \n",
    "pattern = re.compile(r'\\d')\n",
    "\n",
    "# Filter folders containing numbers\n",
    "os.system('rm -r '+snaps_fold+'/processors* log.*')\n",
    "numeric_folders = [folder for folder in sorted_folders if pattern.search(folder)][2:]"
   ]
  },
  {
   "cell_type": "code",
   "execution_count": 2,
   "metadata": {},
   "outputs": [],
   "source": [
    "energy_groups = 6\n",
    "var_names = ['flux'+str(ii) for ii in range(1, energy_groups+1)]\n",
    "\n",
    "prec_groups = 8\n",
    "var_names.extend(['prec'+str(ii) for ii in range(1, prec_groups+1)])\n",
    "\n",
    "dec_groups = 3\n",
    "var_names.extend(['dec'+str(ii) for ii in range(1, dec_groups+1)])\n",
    "\n",
    "var_names.extend(['T', 'U', 'p'])\n",
    "\n",
    "for folder in numeric_folders:\n",
    "\n",
    "    if folder != '0.orig':\n",
    "        only_files = [f for f in listdir(snaps_fold+folder+'/') if isfile(join(snaps_fold+folder+'/', f))]\n",
    "\n",
    "        for file in only_files:    \n",
    "            if not sum([file == field for field in var_names]) == 1:\n",
    "                print(snaps_fold+folder+'/'+file)\n",
    "                os.remove(snaps_fold+folder+'/'+file)"
   ]
  }
 ],
 "metadata": {
  "kernelspec": {
   "display_name": "mp",
   "language": "python",
   "name": "python3"
  },
  "language_info": {
   "codemirror_mode": {
    "name": "ipython",
    "version": 3
   },
   "file_extension": ".py",
   "mimetype": "text/x-python",
   "name": "python",
   "nbconvert_exporter": "python",
   "pygments_lexer": "ipython3",
   "version": "3.10.12"
  }
 },
 "nbformat": 4,
 "nbformat_minor": 2
}
